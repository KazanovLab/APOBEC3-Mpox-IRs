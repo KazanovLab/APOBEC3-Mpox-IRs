{
  "nbformat": 4,
  "nbformat_minor": 0,
  "metadata": {
    "colab": {
      "provenance": []
    },
    "kernelspec": {
      "name": "python3",
      "display_name": "Python 3"
    },
    "language_info": {
      "name": "python"
    }
  },
  "cells": [
    {
      "cell_type": "code",
      "source": [
        "!pip install biopython"
      ],
      "metadata": {
        "colab": {
          "base_uri": "https://localhost:8080/"
        },
        "id": "Nc-Ef-jG4cTC",
        "outputId": "5efe97b6-a9fe-46ea-8486-8f41b7a614f2"
      },
      "execution_count": null,
      "outputs": [
        {
          "output_type": "stream",
          "name": "stdout",
          "text": [
            "Collecting biopython\n",
            "  Downloading biopython-1.85-cp311-cp311-manylinux_2_17_x86_64.manylinux2014_x86_64.whl.metadata (13 kB)\n",
            "Requirement already satisfied: numpy in /usr/local/lib/python3.11/dist-packages (from biopython) (2.0.2)\n",
            "Downloading biopython-1.85-cp311-cp311-manylinux_2_17_x86_64.manylinux2014_x86_64.whl (3.3 MB)\n",
            "\u001b[2K   \u001b[90m━━━━━━━━━━━━━━━━━━━━━━━━━━━━━━━━━━━━━━━━\u001b[0m \u001b[32m3.3/3.3 MB\u001b[0m \u001b[31m56.3 MB/s\u001b[0m eta \u001b[36m0:00:00\u001b[0m\n",
            "\u001b[?25hInstalling collected packages: biopython\n",
            "Successfully installed biopython-1.85\n"
          ]
        }
      ]
    },
    {
      "cell_type": "code",
      "execution_count": null,
      "metadata": {
        "id": "tkFZW4sLA_7H"
      },
      "outputs": [],
      "source": [
        "import pandas as pd\n",
        "import numpy as np\n",
        "import random\n",
        "import matplotlib.pyplot as plt\n",
        "import re\n",
        "from Bio import SeqIO\n",
        "from collections import Counter\n",
        "from tqdm import tqdm\n",
        "from math import comb"
      ]
    },
    {
      "cell_type": "markdown",
      "source": [
        "Create DataFrame with data about inverted repeats (IRs) found by Palindrome Analyzer (size 6-30, spacer 0-10, mismatches 0-1)"
      ],
      "metadata": {
        "id": "stEkMeTBFm-C"
      }
    },
    {
      "cell_type": "code",
      "source": [
        "irs = pd.read_csv('/content/irs_with_mms.txt', sep='\\t')\n",
        "irs.rename(columns={'energy': 'Energy', 'pos': 'Position'}, inplace=True)\n",
        "irs[['Length', 'Spacer_length', 'Mismatch_count']] = irs['tosplit'].str.split('-', expand=True)\n",
        "irs[['Sequence', 'Spacer', 'Opposite']] = irs['seqs'].str.split(' ', expand=True)\n",
        "irs = irs.astype({\n",
        "                'Length': int,\n",
        "                'Spacer_length': int,\n",
        "                'Mismatch_count': int,\n",
        "                'Position': int,\n",
        "                'Energy': float})\n",
        "irs.drop(columns=['seqs', 'tosplit'], inplace=True)\n",
        "mask = irs['Opposite'].isna()\n",
        "irs.loc[mask, ['Opposite', 'Spacer']] = irs.loc[mask, ['Spacer', 'Opposite']].values\n",
        "irs.fillna('', inplace=True)"
      ],
      "metadata": {
        "id": "eARTLfOBF7iq"
      },
      "execution_count": null,
      "outputs": []
    },
    {
      "cell_type": "markdown",
      "source": [
        "Define a Python class for IRs."
      ],
      "metadata": {
        "id": "Ps8bIkVgKcd-"
      }
    },
    {
      "cell_type": "code",
      "source": [
        "class IR:\n",
        "\n",
        "    def __init__(self, Position, Length, Spacer_length, Mismatch_count, Energy, Sequence, Spacer, Opposite):\n",
        "        self.Position = Position\n",
        "        self.Length = Length\n",
        "        self.Spacer_length = Spacer_length\n",
        "        self.Mismatch_count = Mismatch_count\n",
        "        self.Energy = Energy\n",
        "        self.End = Position + 2*Length + Spacer_length\n",
        "        self.Sequence = Sequence\n",
        "        self.Spacer = Spacer\n",
        "        self.Opposite = Opposite\n",
        "\n",
        "    def __repr__(self):\n",
        "        return f'IR at position {self.Position}: {self.Sequence}_{self.Spacer}_{self.Opposite}. Energy = {self.Energy}'\n",
        "\n",
        "    def __len__(self):\n",
        "        return 2*self.Length + self.Spacer_length\n",
        "\n",
        "    def is_intersecting(self, other):\n",
        "        return (self.Position <= other.Position < self.End) or (other.Position <= self.Position < other.End)"
      ],
      "metadata": {
        "id": "zD14D9NQKh_h"
      },
      "execution_count": null,
      "outputs": []
    },
    {
      "cell_type": "markdown",
      "source": [
        "Combine IRs into components as if each IR represented a node in a graph, where 2 IRs are adjacent iff their DNA regions intersect."
      ],
      "metadata": {
        "id": "9YINHX2PFfbH"
      }
    },
    {
      "cell_type": "code",
      "source": [
        "components = [set()]\n",
        "for row in irs.itertuples():\n",
        "    ir1 = IR(row.Position, row.Length, row.Spacer_length, row.Mismatch_count, row.Energy, row.Sequence, row.Spacer, row.Opposite)\n",
        "    if not any(ir1.is_intersecting(ir2) for ir2 in components[-1]):\n",
        "        components.append({ir1})\n",
        "    else:\n",
        "        components[-1].add(ir1)\n",
        "components.pop(0)"
      ],
      "metadata": {
        "colab": {
          "base_uri": "https://localhost:8080/"
        },
        "id": "j9ZeP9F0Fees",
        "outputId": "da4fc580-418f-4f43-a3f9-f315795d3955"
      },
      "execution_count": null,
      "outputs": [
        {
          "output_type": "execute_result",
          "data": {
            "text/plain": [
              "set()"
            ]
          },
          "metadata": {},
          "execution_count": 5
        }
      ]
    },
    {
      "cell_type": "markdown",
      "source": [
        "Now we construct several types of covers, that is, we select IRs from each component by some criteria.\n",
        "Let's begin with choosing the most stable IR from each component (the most stable = the lowest energy)."
      ],
      "metadata": {
        "id": "RSBIrZhflHUp"
      }
    },
    {
      "cell_type": "code",
      "source": [
        "min_energy_cover = []\n",
        "for component in components:\n",
        "    min_energy_cover.append(min(component, key=lambda x: (x.Energy, -len(x), x.Position)))"
      ],
      "metadata": {
        "id": "EmrscUOCkyfl"
      },
      "execution_count": null,
      "outputs": []
    },
    {
      "cell_type": "markdown",
      "source": [
        "Now the shortest IR from component."
      ],
      "metadata": {
        "id": "ssp0PtG_r6bp"
      }
    },
    {
      "cell_type": "code",
      "source": [
        "min_len_cover = []\n",
        "for component in components:\n",
        "    min_len_cover.append(min(component, key=lambda x: (len(x), x.Energy, x.Position)))"
      ],
      "metadata": {
        "id": "PqQYvrqIr-r_"
      },
      "execution_count": null,
      "outputs": []
    },
    {
      "cell_type": "markdown",
      "source": [
        "Now we apply a dinamic algorithm to select IRs with maximal total length/spacer length from each component."
      ],
      "metadata": {
        "id": "8n7BT0l5rIxc"
      }
    },
    {
      "cell_type": "code",
      "source": [
        "def optimal_len(component):\n",
        "    c = sorted(list(component), key=lambda x: x.End) #sort IRs by their End\n",
        "    non_inter = [] #for each IR, remember the biggest index j, so that for any k <= j c[k] does not intersect our IR\n",
        "    for i in range(len(c)):\n",
        "        for j in range(len(c)):\n",
        "            if c[j].is_intersecting(c[i]):\n",
        "                non_inter.append(j - 1)\n",
        "                break\n",
        "    dp = {-1: []}\n",
        "    for i in range(len(c)):\n",
        "        dp[i] = max(dp[i - 1], dp[non_inter[i]] + [c[i]], key=lambda x: sum([len(y) for y in x]))\n",
        "    return dp[len(c) - 1]\n",
        "\n",
        "optimal_len_cover = []\n",
        "for component in components:\n",
        "    optimal_len_cover += optimal_len(component)\n",
        "\n",
        "def optimal_spacer_len(component):\n",
        "    c = sorted(list(component), key=lambda x: x.End) #sort IRs by their End\n",
        "    non_inter = [] #for each IR, remember the biggest index j, so that for any k <= j c[k] does not intersect our IR\n",
        "    for i in range(len(c)):\n",
        "        for j in range(len(c)):\n",
        "            if c[j].is_intersecting(c[i]):\n",
        "                non_inter.append(j - 1)\n",
        "                break\n",
        "    dp = {-1: []}\n",
        "    for i in range(len(c)):\n",
        "        dp[i] = max(dp[i - 1], dp[non_inter[i]] + [c[i]], key=lambda x: sum([y.Spacer_length for y in x]))\n",
        "    return dp[len(c) - 1]\n",
        "\n",
        "optimal_spacer_len_cover = []\n",
        "for component in components:\n",
        "    optimal_spacer_len_cover += optimal_spacer_len(component)"
      ],
      "metadata": {
        "id": "KdDp-UoW9CxU"
      },
      "execution_count": null,
      "outputs": []
    },
    {
      "cell_type": "markdown",
      "source": [
        "Now we apply a greedy algorithm to choose the most stable hairpin at every iteration."
      ],
      "metadata": {
        "id": "Uu_Ryvxqk3en"
      }
    },
    {
      "cell_type": "code",
      "source": [
        "def greedy_energy(component):\n",
        "    selected = []\n",
        "    ir_left = component.copy() #all IRs we can choose from, i.e. all not intersecting those already selected\n",
        "    while ir_left:\n",
        "        selected.append(min(ir_left, key=lambda x: (x.Energy, -len(x), x.Position)))\n",
        "        ir_left = {ir for ir in ir_left if not ir.is_intersecting(selected[-1])}\n",
        "    return selected\n",
        "\n",
        "greedy_energy_cover = []\n",
        "for component in components:\n",
        "    greedy_energy_cover += greedy_energy(component)"
      ],
      "metadata": {
        "id": "VqoSIYTdk08F"
      },
      "execution_count": null,
      "outputs": []
    },
    {
      "cell_type": "markdown",
      "source": [
        "Finally, we select all IRs."
      ],
      "metadata": {
        "id": "h9ql2hAL8ar0"
      }
    },
    {
      "cell_type": "code",
      "source": [
        "all_irs = [IR(row.Position, row.Length, row.Spacer_length, row.Mismatch_count, row.Energy, row.Sequence, row.Spacer, row.Opposite) for row in irs.itertuples()]"
      ],
      "metadata": {
        "id": "HMMeOkXU8mc6"
      },
      "execution_count": null,
      "outputs": []
    },
    {
      "cell_type": "code",
      "source": [
        "#cover = min_energy_cover\n",
        "#cover = min_len_cover\n",
        "#cover = optimal_len_cover\n",
        "#cover = optimal_spacer_len_cover\n",
        "#cover = greedy_energy_cover\n",
        "#cover = all_irs"
      ],
      "metadata": {
        "id": "WknyHgdz9Ad6"
      },
      "execution_count": null,
      "outputs": []
    },
    {
      "cell_type": "markdown",
      "source": [
        "Create an array for the genome and mark all positions covered by IRs as 1."
      ],
      "metadata": {
        "id": "Mj5lJjLQon7E"
      }
    },
    {
      "cell_type": "code",
      "source": [
        "file = open('/content/mpox_genome_seq.fna')\n",
        "mpox_genome = list(SeqIO.parse(file, 'fasta'))[0]\n",
        "genome_length = len(mpox_genome.seq)\n",
        "genome = [0 for i in range(genome_length + 1)]\n",
        "for ir in cover:\n",
        "    genome[ir.Position: ir.End] = [1 for i in range(len(ir))]\n",
        "genome = genome[1:]"
      ],
      "metadata": {
        "id": "hUSeQxpjovDE",
        "colab": {
          "base_uri": "https://localhost:8080/",
          "height": 211
        },
        "outputId": "ace9cba0-e4b4-4988-8136-cbe7446c3d60"
      },
      "execution_count": null,
      "outputs": [
        {
          "output_type": "error",
          "ename": "NameError",
          "evalue": "name 'cover' is not defined",
          "traceback": [
            "\u001b[0;31m---------------------------------------------------------------------------\u001b[0m",
            "\u001b[0;31mNameError\u001b[0m                                 Traceback (most recent call last)",
            "\u001b[0;32m/tmp/ipython-input-3700627167.py\u001b[0m in \u001b[0;36m<cell line: 0>\u001b[0;34m()\u001b[0m\n\u001b[1;32m      3\u001b[0m \u001b[0mgenome_length\u001b[0m \u001b[0;34m=\u001b[0m \u001b[0mlen\u001b[0m\u001b[0;34m(\u001b[0m\u001b[0mmpox_genome\u001b[0m\u001b[0;34m.\u001b[0m\u001b[0mseq\u001b[0m\u001b[0;34m)\u001b[0m\u001b[0;34m\u001b[0m\u001b[0;34m\u001b[0m\u001b[0m\n\u001b[1;32m      4\u001b[0m \u001b[0mgenome\u001b[0m \u001b[0;34m=\u001b[0m \u001b[0;34m[\u001b[0m\u001b[0;36m0\u001b[0m \u001b[0;32mfor\u001b[0m \u001b[0mi\u001b[0m \u001b[0;32min\u001b[0m \u001b[0mrange\u001b[0m\u001b[0;34m(\u001b[0m\u001b[0mgenome_length\u001b[0m \u001b[0;34m+\u001b[0m \u001b[0;36m1\u001b[0m\u001b[0;34m)\u001b[0m\u001b[0;34m]\u001b[0m\u001b[0;34m\u001b[0m\u001b[0;34m\u001b[0m\u001b[0m\n\u001b[0;32m----> 5\u001b[0;31m \u001b[0;32mfor\u001b[0m \u001b[0mir\u001b[0m \u001b[0;32min\u001b[0m \u001b[0mcover\u001b[0m\u001b[0;34m:\u001b[0m\u001b[0;34m\u001b[0m\u001b[0;34m\u001b[0m\u001b[0m\n\u001b[0m\u001b[1;32m      6\u001b[0m     \u001b[0mgenome\u001b[0m\u001b[0;34m[\u001b[0m\u001b[0mir\u001b[0m\u001b[0;34m.\u001b[0m\u001b[0mPosition\u001b[0m\u001b[0;34m:\u001b[0m \u001b[0mir\u001b[0m\u001b[0;34m.\u001b[0m\u001b[0mEnd\u001b[0m\u001b[0;34m]\u001b[0m \u001b[0;34m=\u001b[0m \u001b[0;34m[\u001b[0m\u001b[0;36m1\u001b[0m \u001b[0;32mfor\u001b[0m \u001b[0mi\u001b[0m \u001b[0;32min\u001b[0m \u001b[0mrange\u001b[0m\u001b[0;34m(\u001b[0m\u001b[0mlen\u001b[0m\u001b[0;34m(\u001b[0m\u001b[0mir\u001b[0m\u001b[0;34m)\u001b[0m\u001b[0;34m)\u001b[0m\u001b[0;34m]\u001b[0m\u001b[0;34m\u001b[0m\u001b[0;34m\u001b[0m\u001b[0m\n\u001b[1;32m      7\u001b[0m \u001b[0mgenome\u001b[0m \u001b[0;34m=\u001b[0m \u001b[0mgenome\u001b[0m\u001b[0;34m[\u001b[0m\u001b[0;36m1\u001b[0m\u001b[0;34m:\u001b[0m\u001b[0;34m]\u001b[0m\u001b[0;34m\u001b[0m\u001b[0;34m\u001b[0m\u001b[0m\n",
            "\u001b[0;31mNameError\u001b[0m: name 'cover' is not defined"
          ]
        }
      ]
    },
    {
      "cell_type": "markdown",
      "source": [
        "And the same, but we mark only spacer regions."
      ],
      "metadata": {
        "id": "BF2fMG1Ahor2"
      }
    },
    {
      "cell_type": "code",
      "source": [
        "genome_spacers = [0 for i in range(genome_length + 1)]\n",
        "for ir in cover:\n",
        "    genome_spacers[ir.Position + ir.Length: ir.Position + ir.Length + ir.Spacer_length] = [1 for i in range(ir.Spacer_length)]\n",
        "genome_spacers = genome_spacers[1:]"
      ],
      "metadata": {
        "id": "VjFol53Bhtgf"
      },
      "execution_count": null,
      "outputs": []
    },
    {
      "cell_type": "markdown",
      "source": [
        "Read the file with information about mutations occured in newer MPOX strains."
      ],
      "metadata": {
        "id": "sPbRK_i3uM_5"
      }
    },
    {
      "cell_type": "code",
      "source": [
        "snp_locations = pd.read_excel('/content/snp_locations.xlsx')\n",
        "num_of_snps = len(snp_locations[snp_locations['isAPOBEC'] == 1])"
      ],
      "metadata": {
        "id": "_0fe7jSnukSj"
      },
      "execution_count": null,
      "outputs": []
    },
    {
      "cell_type": "markdown",
      "source": [
        "Let's have a look at how often real mutations (only in APOBEC sites) occur in IRs (depending on our cover)."
      ],
      "metadata": {
        "id": "FlyQLZlfDWbM"
      }
    },
    {
      "cell_type": "code",
      "source": [
        "print(f'Percentage of genomic sequence covered by selected IRs: {round(sum(genome)/len(genome)*100, 2)}%')\n",
        "print(f'Percentage of genomic sequence covered by selected spacers: {round(sum(genome_spacers)/len(genome)*100, 2)}%')\n",
        "print(f'Expected number of mutations in IRs: {round(sum(genome)/len(genome)*num_of_snps)}.')\n",
        "print(f'Expected number of mutations in spacers: {round(sum(genome_spacers)/len(genome)*num_of_snps)}.')\n",
        "in_irs = sum(snp_locations[snp_locations['isAPOBEC'] == 1]['Position'].apply(lambda x: genome[x - 1]))\n",
        "in_spacers = sum(snp_locations[snp_locations['isAPOBEC'] == 1]['Position'].apply(lambda x: genome_spacers[x - 1]))\n",
        "print(f'Actual number of mutations in IRs: {in_irs}.')\n",
        "print(f'Actual number of mutations in spacers: {in_spacers}.')"
      ],
      "metadata": {
        "id": "0gFrXxWTWGeb"
      },
      "execution_count": null,
      "outputs": []
    },
    {
      "cell_type": "markdown",
      "source": [
        "Simulate random mutations in APOBEC-mutagenesis sites (TC and GA in the opposite strand) and count, how many of them occured inside our cover."
      ],
      "metadata": {
        "id": "DWFlVMmp3KWP"
      }
    },
    {
      "cell_type": "code",
      "source": [
        "mut_sites = [m.start() + 1 for m in re.finditer(r'((?<=T)C)|(G(?=A))', str(mpox_genome.seq))]\n",
        "mut_sites_in_cover = len([m for m in mut_sites if genome[m - 1]])\n",
        "mut_sites_in_spacers = len([m for m in mut_sites if genome_spacers[m - 1]])\n",
        "distr = []\n",
        "distr_spacers = []\n",
        "n_sims = 100000\n",
        "for i in range(n_sims):\n",
        "    snp_locs = random.sample(mut_sites, num_of_snps)\n",
        "    how_many_in_irs = sum([genome[x - 1] == 1 for x in snp_locs])\n",
        "    how_many_in_spacers = sum([genome_spacers[x - 1] == 1 for x in snp_locs])\n",
        "    distr.append(how_many_in_irs)\n",
        "    distr_spacers.append(how_many_in_spacers)"
      ],
      "metadata": {
        "id": "OuIa2g4C2G_R"
      },
      "execution_count": null,
      "outputs": []
    },
    {
      "cell_type": "markdown",
      "source": [
        "Now instead of simulation we design binomial distribution."
      ],
      "metadata": {
        "id": "-SmfyYRULlrm"
      }
    },
    {
      "cell_type": "code",
      "source": [
        "def bernulli(p, n, k):\n",
        "    return comb(n, k) * p**k * (1 - p)**(n - k)"
      ],
      "metadata": {
        "id": "ImaUt00BLkUC"
      },
      "execution_count": null,
      "outputs": []
    },
    {
      "cell_type": "markdown",
      "source": [
        "Calculate p-value for the hypothesis \"Actual APOBEC mutations prefer IR regions\" compared to our simulations."
      ],
      "metadata": {
        "id": "LQTjsLCMcB0u"
      }
    },
    {
      "cell_type": "code",
      "source": [
        "p = sum([x >= in_irs for x in distr])/len(distr)\n",
        "p_spacers = sum([x >= in_spacers for x in distr_spacers])/len(distr_spacers)\n",
        "print(f'p-value for whole IRs: {round(p*100, 3)}%')\n",
        "print(f'p-value for spacers: {round(p_spacers*100, 3)}%')"
      ],
      "metadata": {
        "id": "FFGFfBQ8cH6b"
      },
      "execution_count": null,
      "outputs": []
    },
    {
      "cell_type": "code",
      "source": [
        "bars = Counter(distr)\n",
        "for k in bars.keys():\n",
        "    bars[k] = bars[k] / n_sims\n",
        "bernulli_pins = {}\n",
        "for k in range(min(bars.keys()), max(bars.keys()) + 1):\n",
        "    bernulli_pins[k] = bernulli(mut_sites_in_cover / len(mut_sites), num_of_snps, k)\n",
        "c = []\n",
        "for i in bars.keys():\n",
        "    if i < in_irs:\n",
        "        c.append('#25afbd')\n",
        "    if i == in_irs:\n",
        "        c.append('#f8a772')\n",
        "    if i > in_irs:\n",
        "        c.append('#fbc8a7')\n",
        "plt.bar(bars.keys(), bars.values(), color=c)\n",
        "plt.xticks(np.arange(min(bars.keys()), max(bars.keys()) + 1, 2))\n",
        "plt.grid(True, ls= '--', axis='y')\n",
        "plt.plot(bernulli_pins.keys(), bernulli_pins.values(), color='#174e5d', lw=2)\n",
        "plt.xlabel('# mutations inside IRs')\n",
        "plt.ylabel('probability density')\n",
        "plt.text(0.7, 0.9, f'p-value = {round(p*100, 1)}%', transform=plt.gca().transAxes, fontsize=12, bbox=dict(ls='', boxstyle='square', facecolor='grey', alpha=0.3))\n",
        "# plt.savefig(\"optimal_len_irs.png\", dpi=300, bbox_inches='tight')\n",
        "plt.show()"
      ],
      "metadata": {
        "id": "rYkVxLFQK42p"
      },
      "execution_count": null,
      "outputs": []
    },
    {
      "cell_type": "code",
      "source": [
        "bars = Counter(distr_spacers)\n",
        "for k in bars.keys():\n",
        "    bars[k] = bars[k] / n_sims\n",
        "bernulli_spacers = {}\n",
        "for k in range(min(bars.keys()), max(bars.keys()) + 1):\n",
        "    bernulli_spacers[k] = bernulli(mut_sites_in_spacers / len(mut_sites), num_of_snps, k)\n",
        "c = []\n",
        "for i in bars.keys():\n",
        "    if i < in_spacers:\n",
        "        c.append('#25afbd')\n",
        "    if i == in_spacers:\n",
        "        c.append('#f8a772')\n",
        "    if i > in_spacers:\n",
        "        c.append('#fbc8a7')\n",
        "plt.bar(bars.keys(), bars.values(), color=c)\n",
        "plt.xticks(np.arange(min(bars.keys()), max(bars.keys()) + 1, 2))\n",
        "plt.grid(True, ls= '--', axis='y')\n",
        "plt.plot(bernulli_spacers.keys(), bernulli_spacers.values(), color='#174e5d', lw=2)\n",
        "plt.xlabel('# mutations inside spacers')\n",
        "plt.ylabel('probability density')\n",
        "plt.text(0.7, 0.9, f'p-value = {round(p_spacers*100, 1)}%', transform=plt.gca().transAxes, fontsize=12, bbox=dict(ls='', boxstyle='square', facecolor='grey', alpha=0.3))\n",
        "# plt.savefig(\"opt_len_spacers.png\", dpi=300, bbox_inches='tight')\n",
        "plt.show()"
      ],
      "metadata": {
        "id": "bpvZqzrOmauP"
      },
      "execution_count": null,
      "outputs": []
    },
    {
      "cell_type": "markdown",
      "source": [
        "Now let's check the hypothesis \"APOBEC prefers TC or simply C at 3'-ends of hairpin loops (and GA/A at 5' for the opposite strand)\"."
      ],
      "metadata": {
        "id": "AZl74R-wzcE-"
      }
    },
    {
      "cell_type": "code",
      "source": [
        "#construct dataframe with IRs in our cover\n",
        "irs_cover = pd.DataFrame({'Position': [ir.Position for ir in cover],\n",
        "             'Energy': [ir.Energy for ir in cover],\n",
        "             'Length': [ir.Length for ir in cover],\n",
        "             'Spacer_length': [ir.Spacer_length for ir in cover],\n",
        "             'Mismatch_count': [ir.Mismatch_count for ir in cover],\n",
        "             'Sequence': [ir.Sequence for ir in cover],\n",
        "             'Spacer': [ir.Spacer for ir in cover],\n",
        "             'Opposite': [ir.Opposite for ir in cover]})\n",
        "#remember 5'-TC/C positions in selected IRs\n",
        "loop_tc_locs = []\n",
        "for row in irs_cover[irs_cover['Spacer'].str.endswith('TC')].itertuples():\n",
        "    ir = IR(row.Position, row.Length, row.Spacer_length, row.Mismatch_count, row.Energy, row.Sequence, row.Spacer, row.Opposite)\n",
        "    loop_tc_locs.append(ir.Position + ir.Length + ir.Spacer_length - 1)\n",
        "for row in irs_cover[irs_cover['Spacer'].str.startswith('GA')].itertuples():\n",
        "    ir = IR(row.Position, row.Length, row.Spacer_length, row.Mismatch_count, row.Energy, row.Sequence, row.Spacer, row.Opposite)\n",
        "    loop_tc_locs.append(ir.Position + ir.Length)\n",
        "loop_tc_locs = list(set(loop_tc_locs))\n",
        "loop_c_locs = []\n",
        "for row in irs_cover[irs_cover['Spacer'].str.endswith('C')].itertuples():\n",
        "    ir = IR(row.Position, row.Length, row.Spacer_length, row.Mismatch_count, row.Energy, row.Sequence, row.Spacer, row.Opposite)\n",
        "    loop_c_locs.append(ir.Position + ir.Length + ir.Spacer_length - 1)\n",
        "for row in irs_cover[irs_cover['Spacer'].str.startswith('G')].itertuples():\n",
        "    ir = IR(row.Position, row.Length, row.Spacer_length, row.Mismatch_count, row.Energy, row.Sequence, row.Spacer, row.Opposite)\n",
        "    loop_c_locs.append(ir.Position + ir.Length)\n",
        "loop_c_locs = list(set(loop_c_locs))\n",
        "#simulate mutations in APOBEC sites\n",
        "tc_distr = []\n",
        "c_distr = []\n",
        "for i in range(n_sims):\n",
        "    rand = set(random.sample(mut_sites, num_of_snps))\n",
        "    tc_distr.append(len(set(loop_tc_locs).intersection(rand)))\n",
        "    c_distr.append(len(set(loop_c_locs).intersection(rand)))\n",
        "#count real mutations in such positions\n",
        "in_loop_tc = sum(snp_locations['Position'].apply(lambda x: x in loop_tc_locs))\n",
        "print(f\"{in_loop_tc} mutations are in TC at 3' end of loops.\")\n",
        "in_loop_c = sum(snp_locations['Position'].apply(lambda x: x in loop_c_locs))\n",
        "print(f\"{in_loop_c} mutations are in C at 3' end of loops.\")\n",
        "#calculate p-value\n",
        "p_tc = round((sum([x >= in_loop_tc for x in tc_distr])/len(tc_distr)*100), 3)\n",
        "p_c = round((sum([x >= in_loop_c for x in c_distr])/len(c_distr)*100), 3)\n",
        "print(f'p-value for TC is {p_tc}%')\n",
        "print(f'p-value for C is {p_c}%')"
      ],
      "metadata": {
        "id": "2XrIl3AKziXJ"
      },
      "execution_count": null,
      "outputs": []
    },
    {
      "cell_type": "code",
      "source": [
        "bars = Counter(tc_distr)\n",
        "for k in bars.keys():\n",
        "    bars[k] = bars[k] / n_sims\n",
        "bernulli_tc = {}\n",
        "for k in range(min(bars.keys()), max(bars.keys()) + 1):\n",
        "    bernulli_tc[k] = bernulli(len(loop_tc_locs) / len(mut_sites), num_of_snps, k)\n",
        "c = []\n",
        "for i in bars.keys():\n",
        "    if i < in_loop_tc:\n",
        "        c.append('#25afbd')\n",
        "    if i == in_loop_tc:\n",
        "        c.append('#f8a772')\n",
        "    if i > in_loop_tc:\n",
        "        c.append('#fbc8a7')\n",
        "plt.bar(bars.keys(), bars.values(), color=c)\n",
        "plt.xticks(np.arange(min(bars.keys()), max(bars.keys()) + 1, 1))\n",
        "plt.grid(True, ls= '--', axis='y')\n",
        "plt.plot(bernulli_tc.keys(), bernulli_tc.values(), color='#174e5d', lw=2)\n",
        "plt.xlabel(\"# mutations in 3'- TC\")\n",
        "plt.ylabel('probability density')\n",
        "plt.text(0.7, 0.9, f'p-value = {round(p_tc, 1)}%', transform=plt.gca().transAxes, fontsize=12, bbox=dict(ls='', boxstyle='square', facecolor='grey', alpha=0.3))\n",
        "# plt.savefig(\"opt_len_tc.png\", dpi=300, bbox_inches='tight')\n",
        "plt.show()"
      ],
      "metadata": {
        "id": "KUqd3XlNi77P"
      },
      "execution_count": null,
      "outputs": []
    },
    {
      "cell_type": "code",
      "source": [
        "bars = Counter(c_distr)\n",
        "for k in bars.keys():\n",
        "    bars[k] = bars[k] / n_sims\n",
        "bernulli_c = {}\n",
        "for k in range(min(bars.keys()), max(bars.keys()) + 1):\n",
        "    bernulli_c[k] = bernulli(len(loop_tc_locs) / len(mut_sites), num_of_snps, k)\n",
        "c = []\n",
        "for i in bars.keys():\n",
        "    if i < in_loop_c:\n",
        "        c.append('#25afbd')\n",
        "    if i == in_loop_c:\n",
        "        c.append('#f8a772')\n",
        "    if i > in_loop_c:\n",
        "        c.append('#fbc8a7')\n",
        "plt.bar(bars.keys(), bars.values(), color=c)\n",
        "plt.xticks(np.arange(min(bars.keys()), max(bars.keys()) + 1, 1))\n",
        "plt.grid(True, ls= '--', axis='y')\n",
        "plt.plot(bernulli_c.keys(), bernulli_c.values(), color='#174e5d', lw=2)\n",
        "plt.xlabel(\"# mutations in 3'- C\")\n",
        "plt.ylabel('probability density')\n",
        "plt.text(0.7, 0.9, f'p-value = {round(p_c, 1)}%', transform=plt.gca().transAxes, fontsize=12, bbox=dict(ls='', boxstyle='square', facecolor='grey', alpha=0.3))\n",
        "# plt.savefig(\"opt_len_c.png\", dpi=300, bbox_inches='tight')\n",
        "plt.show()"
      ],
      "metadata": {
        "id": "Cx3Shw-3lJ6p"
      },
      "execution_count": null,
      "outputs": []
    }
  ]
}